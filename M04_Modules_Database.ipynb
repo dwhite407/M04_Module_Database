{
 "cells": [
  {
   "cell_type": "code",
   "execution_count": 23,
   "id": "dff6a699-7f07-4d99-bff9-422b5a8d2f56",
   "metadata": {},
   "outputs": [
    {
     "name": "stdout",
     "output_type": "stream",
     "text": [
      "Open 9-5 Daily\n"
     ]
    }
   ],
   "source": [
    "#11.1\n",
    "import zoo\n",
    "\n",
    "zoo.hours()"
   ]
  },
  {
   "cell_type": "code",
   "execution_count": 27,
   "id": "7c870f73-9ce8-41ab-a637-750ba0fd04cd",
   "metadata": {},
   "outputs": [
    {
     "name": "stdout",
     "output_type": "stream",
     "text": [
      "Open 9-5 Daily\n"
     ]
    }
   ],
   "source": [
    "#11.2\n",
    "import zoo as menagerie\n",
    "menagerie.hours()"
   ]
  },
  {
   "cell_type": "code",
   "execution_count": 54,
   "id": "adc8be49-7f3b-4b02-86dc-e85b5b8f85f6",
   "metadata": {},
   "outputs": [
    {
     "name": "stdout",
     "output_type": "stream",
     "text": [
      "[('The Weirdstone of Brisingamen', 'Alan Garner', 1960), ('Perdido Street Station', 'China Mieville', 2000), ('Thud!', 'Terry Pratchett', 2005), ('The Spellman Files', 'Lisa Lutz', 2007), ('Small Gods', 'Terry Pratchett', 1992)]\n"
     ]
    }
   ],
   "source": [
    "#16.4 through 16.6\n",
    "import sqlite3\n",
    "conn = sqlite3.connect(\"books.db\")\n",
    "curs = conn.cursor()\n",
    "#drops the table if exits to enable creation\n",
    "curs.execute('''DROP TABLE IF EXISTS books''')\n",
    "#creates the table\n",
    "curs.execute('''CREATE TABLE books (title text, author text, year integer)''')\n",
    "\n",
    "\n",
    "ins = 'INSERT INTO books (title, author, year) VALUES(?, ?, ?)'\n",
    "\n",
    "#inserts book information into table\n",
    "curs.execute(ins, ('The Weirdstone of Brisingamen', 'Alan Garner', 1960))\n",
    "curs.execute(ins, ('Perdido Street Station', 'China Mieville', 2000))\n",
    "curs.execute(ins, ('Thud!', 'Terry Pratchett', 2005))\n",
    "curs.execute(ins, ('The Spellman Files','Lisa Lutz', 2007))\n",
    "curs.execute(ins, ('Small Gods', 'Terry Pratchett', 1992))\n",
    "curs.execute('SELECT * FROM books')\n",
    "conn.commit()\n",
    "rows = curs.fetchall()\n",
    "print(rows)\n",
    "\n",
    "conn.close()"
   ]
  },
  {
   "cell_type": "code",
   "execution_count": 66,
   "id": "ffe6abe0-ab81-45d7-8b9f-08e0eee08915",
   "metadata": {},
   "outputs": [
    {
     "name": "stdout",
     "output_type": "stream",
     "text": [
      "Titles in alphabetical order:\n",
      "Perdido Street Station\n",
      "Small Gods\n",
      "The Spellman Files\n",
      "The Weirdstone of Brisingamen\n",
      "Thud!\n"
     ]
    }
   ],
   "source": [
    "#16.8\n",
    "import sqlalchemy as sa\n",
    "\n",
    "# Create an engine to connect to the books.db SQLite database\n",
    "engine = sa.create_engine('sqlite:///books.db')\n",
    "\n",
    "# Connect to the database\n",
    "with engine.connect() as connection:\n",
    "    # Define the query to select titles in alphabetical order\n",
    "    query = sa.text(\"SELECT title FROM books ORDER BY title\")\n",
    "    \n",
    "    # Execute the query\n",
    "    result = connection.execute(query)\n",
    "    \n",
    "    # Print the results\n",
    "    print(\"Titles in alphabetical order:\")\n",
    "    for row in result:\n",
    "        print(row[0])"
   ]
  }
 ],
 "metadata": {
  "kernelspec": {
   "display_name": "Python 3 (ipykernel)",
   "language": "python",
   "name": "python3"
  },
  "language_info": {
   "codemirror_mode": {
    "name": "ipython",
    "version": 3
   },
   "file_extension": ".py",
   "mimetype": "text/x-python",
   "name": "python",
   "nbconvert_exporter": "python",
   "pygments_lexer": "ipython3",
   "version": "3.12.4"
  }
 },
 "nbformat": 4,
 "nbformat_minor": 5
}
